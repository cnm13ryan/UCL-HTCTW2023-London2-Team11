{
 "cells": [
  {
   "cell_type": "code",
   "execution_count": 4,
   "id": "7cc81a70",
   "metadata": {},
   "outputs": [
    {
     "ename": "NoSuchWindowException",
     "evalue": "Message: no such window: target window already closed\nfrom unknown error: web view not found\n  (Session info: chrome=114.0.5735.106)\nStacktrace:\n0   chromedriver                        0x000000010296ff48 chromedriver + 4226888\n1   chromedriver                        0x00000001029684f4 chromedriver + 4195572\n2   chromedriver                        0x00000001025acd68 chromedriver + 281960\n3   chromedriver                        0x0000000102586ef8 chromedriver + 126712\n4   chromedriver                        0x000000010260be88 chromedriver + 671368\n5   chromedriver                        0x000000010261e45c chromedriver + 746588\n6   chromedriver                        0x00000001025dbf1c chromedriver + 474908\n7   chromedriver                        0x00000001025dcef4 chromedriver + 478964\n8   chromedriver                        0x000000010293159c chromedriver + 3970460\n9   chromedriver                        0x00000001029356f0 chromedriver + 3987184\n10  chromedriver                        0x000000010293b5b4 chromedriver + 4011444\n11  chromedriver                        0x00000001029362fc chromedriver + 3990268\n12  chromedriver                        0x000000010290e1c0 chromedriver + 3826112\n13  chromedriver                        0x0000000102952088 chromedriver + 4104328\n14  chromedriver                        0x00000001029521e0 chromedriver + 4104672\n15  chromedriver                        0x0000000102961f28 chromedriver + 4169512\n16  libsystem_pthread.dylib             0x00000001a3bce06c _pthread_start + 148\n17  libsystem_pthread.dylib             0x00000001a3bc8e2c thread_start + 8\n",
     "output_type": "error",
     "traceback": [
      "\u001b[0;31m---------------------------------------------------------------------------\u001b[0m",
      "\u001b[0;31mNoSuchWindowException\u001b[0m                     Traceback (most recent call last)",
      "Cell \u001b[0;32mIn[4], line 24\u001b[0m\n\u001b[1;32m     22\u001b[0m \u001b[38;5;66;03m# Capture screenshots\u001b[39;00m\n\u001b[1;32m     23\u001b[0m \u001b[38;5;28;01mfor\u001b[39;00m i \u001b[38;5;129;01min\u001b[39;00m \u001b[38;5;28mrange\u001b[39m(\u001b[38;5;28mint\u001b[39m(duration \u001b[38;5;241m/\u001b[39m step_size)):\n\u001b[0;32m---> 24\u001b[0m     \u001b[43mdriver\u001b[49m\u001b[38;5;241;43m.\u001b[39;49m\u001b[43msave_screenshot\u001b[49m\u001b[43m(\u001b[49m\u001b[38;5;124;43mf\u001b[39;49m\u001b[38;5;124;43m'\u001b[39;49m\u001b[38;5;124;43mscreenshot\u001b[39;49m\u001b[38;5;132;43;01m{\u001b[39;49;00m\u001b[43mi\u001b[49m\u001b[38;5;132;43;01m}\u001b[39;49;00m\u001b[38;5;124;43m.png\u001b[39;49m\u001b[38;5;124;43m'\u001b[39;49m\u001b[43m)\u001b[49m\n\u001b[1;32m     25\u001b[0m     \u001b[38;5;66;03m# add delay for the next capture\u001b[39;00m\n\u001b[1;32m     26\u001b[0m     time\u001b[38;5;241m.\u001b[39msleep(step_size)\n",
      "File \u001b[0;32m~/anaconda3/lib/python3.10/site-packages/selenium/webdriver/remote/webdriver.py:826\u001b[0m, in \u001b[0;36mWebDriver.save_screenshot\u001b[0;34m(self, filename)\u001b[0m\n\u001b[1;32m    812\u001b[0m \u001b[38;5;28;01mdef\u001b[39;00m \u001b[38;5;21msave_screenshot\u001b[39m(\u001b[38;5;28mself\u001b[39m, filename) \u001b[38;5;241m-\u001b[39m\u001b[38;5;241m>\u001b[39m \u001b[38;5;28mbool\u001b[39m:\n\u001b[1;32m    813\u001b[0m     \u001b[38;5;124;03m\"\"\"Saves a screenshot of the current window to a PNG image file.\u001b[39;00m\n\u001b[1;32m    814\u001b[0m \u001b[38;5;124;03m    Returns False if there is any IOError, else returns True. Use full\u001b[39;00m\n\u001b[1;32m    815\u001b[0m \u001b[38;5;124;03m    paths in your filename.\u001b[39;00m\n\u001b[0;32m   (...)\u001b[0m\n\u001b[1;32m    824\u001b[0m \u001b[38;5;124;03m            driver.save_screenshot('/Screenshots/foo.png')\u001b[39;00m\n\u001b[1;32m    825\u001b[0m \u001b[38;5;124;03m    \"\"\"\u001b[39;00m\n\u001b[0;32m--> 826\u001b[0m     \u001b[38;5;28;01mreturn\u001b[39;00m \u001b[38;5;28;43mself\u001b[39;49m\u001b[38;5;241;43m.\u001b[39;49m\u001b[43mget_screenshot_as_file\u001b[49m\u001b[43m(\u001b[49m\u001b[43mfilename\u001b[49m\u001b[43m)\u001b[49m\n",
      "File \u001b[0;32m~/anaconda3/lib/python3.10/site-packages/selenium/webdriver/remote/webdriver.py:802\u001b[0m, in \u001b[0;36mWebDriver.get_screenshot_as_file\u001b[0;34m(self, filename)\u001b[0m\n\u001b[1;32m    797\u001b[0m \u001b[38;5;28;01mif\u001b[39;00m \u001b[38;5;129;01mnot\u001b[39;00m \u001b[38;5;28mstr\u001b[39m(filename)\u001b[38;5;241m.\u001b[39mlower()\u001b[38;5;241m.\u001b[39mendswith(\u001b[38;5;124m\"\u001b[39m\u001b[38;5;124m.png\u001b[39m\u001b[38;5;124m\"\u001b[39m):\n\u001b[1;32m    798\u001b[0m     warnings\u001b[38;5;241m.\u001b[39mwarn(\n\u001b[1;32m    799\u001b[0m         \u001b[38;5;124m\"\u001b[39m\u001b[38;5;124mname used for saved screenshot does not match file \u001b[39m\u001b[38;5;124m\"\u001b[39m \u001b[38;5;124m\"\u001b[39m\u001b[38;5;124mtype. It should end with a `.png` extension\u001b[39m\u001b[38;5;124m\"\u001b[39m,\n\u001b[1;32m    800\u001b[0m         \u001b[38;5;167;01mUserWarning\u001b[39;00m,\n\u001b[1;32m    801\u001b[0m     )\n\u001b[0;32m--> 802\u001b[0m png \u001b[38;5;241m=\u001b[39m \u001b[38;5;28;43mself\u001b[39;49m\u001b[38;5;241;43m.\u001b[39;49m\u001b[43mget_screenshot_as_png\u001b[49m\u001b[43m(\u001b[49m\u001b[43m)\u001b[49m\n\u001b[1;32m    803\u001b[0m \u001b[38;5;28;01mtry\u001b[39;00m:\n\u001b[1;32m    804\u001b[0m     \u001b[38;5;28;01mwith\u001b[39;00m \u001b[38;5;28mopen\u001b[39m(filename, \u001b[38;5;124m\"\u001b[39m\u001b[38;5;124mwb\u001b[39m\u001b[38;5;124m\"\u001b[39m) \u001b[38;5;28;01mas\u001b[39;00m f:\n",
      "File \u001b[0;32m~/anaconda3/lib/python3.10/site-packages/selenium/webdriver/remote/webdriver.py:836\u001b[0m, in \u001b[0;36mWebDriver.get_screenshot_as_png\u001b[0;34m(self)\u001b[0m\n\u001b[1;32m    828\u001b[0m \u001b[38;5;28;01mdef\u001b[39;00m \u001b[38;5;21mget_screenshot_as_png\u001b[39m(\u001b[38;5;28mself\u001b[39m) \u001b[38;5;241m-\u001b[39m\u001b[38;5;241m>\u001b[39m \u001b[38;5;28mbytes\u001b[39m:\n\u001b[1;32m    829\u001b[0m     \u001b[38;5;124;03m\"\"\"Gets the screenshot of the current window as a binary data.\u001b[39;00m\n\u001b[1;32m    830\u001b[0m \n\u001b[1;32m    831\u001b[0m \u001b[38;5;124;03m    :Usage:\u001b[39;00m\n\u001b[0;32m   (...)\u001b[0m\n\u001b[1;32m    834\u001b[0m \u001b[38;5;124;03m            driver.get_screenshot_as_png()\u001b[39;00m\n\u001b[1;32m    835\u001b[0m \u001b[38;5;124;03m    \"\"\"\u001b[39;00m\n\u001b[0;32m--> 836\u001b[0m     \u001b[38;5;28;01mreturn\u001b[39;00m b64decode(\u001b[38;5;28;43mself\u001b[39;49m\u001b[38;5;241;43m.\u001b[39;49m\u001b[43mget_screenshot_as_base64\u001b[49m\u001b[43m(\u001b[49m\u001b[43m)\u001b[49m\u001b[38;5;241m.\u001b[39mencode(\u001b[38;5;124m\"\u001b[39m\u001b[38;5;124mascii\u001b[39m\u001b[38;5;124m\"\u001b[39m))\n",
      "File \u001b[0;32m~/anaconda3/lib/python3.10/site-packages/selenium/webdriver/remote/webdriver.py:847\u001b[0m, in \u001b[0;36mWebDriver.get_screenshot_as_base64\u001b[0;34m(self)\u001b[0m\n\u001b[1;32m    838\u001b[0m \u001b[38;5;28;01mdef\u001b[39;00m \u001b[38;5;21mget_screenshot_as_base64\u001b[39m(\u001b[38;5;28mself\u001b[39m) \u001b[38;5;241m-\u001b[39m\u001b[38;5;241m>\u001b[39m \u001b[38;5;28mstr\u001b[39m:\n\u001b[1;32m    839\u001b[0m     \u001b[38;5;124;03m\"\"\"Gets the screenshot of the current window as a base64 encoded string\u001b[39;00m\n\u001b[1;32m    840\u001b[0m \u001b[38;5;124;03m    which is useful in embedded images in HTML.\u001b[39;00m\n\u001b[1;32m    841\u001b[0m \n\u001b[0;32m   (...)\u001b[0m\n\u001b[1;32m    845\u001b[0m \u001b[38;5;124;03m            driver.get_screenshot_as_base64()\u001b[39;00m\n\u001b[1;32m    846\u001b[0m \u001b[38;5;124;03m    \"\"\"\u001b[39;00m\n\u001b[0;32m--> 847\u001b[0m     \u001b[38;5;28;01mreturn\u001b[39;00m \u001b[38;5;28;43mself\u001b[39;49m\u001b[38;5;241;43m.\u001b[39;49m\u001b[43mexecute\u001b[49m\u001b[43m(\u001b[49m\u001b[43mCommand\u001b[49m\u001b[38;5;241;43m.\u001b[39;49m\u001b[43mSCREENSHOT\u001b[49m\u001b[43m)\u001b[49m[\u001b[38;5;124m\"\u001b[39m\u001b[38;5;124mvalue\u001b[39m\u001b[38;5;124m\"\u001b[39m]\n",
      "File \u001b[0;32m~/anaconda3/lib/python3.10/site-packages/selenium/webdriver/remote/webdriver.py:346\u001b[0m, in \u001b[0;36mWebDriver.execute\u001b[0;34m(self, driver_command, params)\u001b[0m\n\u001b[1;32m    344\u001b[0m response \u001b[38;5;241m=\u001b[39m \u001b[38;5;28mself\u001b[39m\u001b[38;5;241m.\u001b[39mcommand_executor\u001b[38;5;241m.\u001b[39mexecute(driver_command, params)\n\u001b[1;32m    345\u001b[0m \u001b[38;5;28;01mif\u001b[39;00m response:\n\u001b[0;32m--> 346\u001b[0m     \u001b[38;5;28;43mself\u001b[39;49m\u001b[38;5;241;43m.\u001b[39;49m\u001b[43merror_handler\u001b[49m\u001b[38;5;241;43m.\u001b[39;49m\u001b[43mcheck_response\u001b[49m\u001b[43m(\u001b[49m\u001b[43mresponse\u001b[49m\u001b[43m)\u001b[49m\n\u001b[1;32m    347\u001b[0m     response[\u001b[38;5;124m\"\u001b[39m\u001b[38;5;124mvalue\u001b[39m\u001b[38;5;124m\"\u001b[39m] \u001b[38;5;241m=\u001b[39m \u001b[38;5;28mself\u001b[39m\u001b[38;5;241m.\u001b[39m_unwrap_value(response\u001b[38;5;241m.\u001b[39mget(\u001b[38;5;124m\"\u001b[39m\u001b[38;5;124mvalue\u001b[39m\u001b[38;5;124m\"\u001b[39m, \u001b[38;5;28;01mNone\u001b[39;00m))\n\u001b[1;32m    348\u001b[0m     \u001b[38;5;28;01mreturn\u001b[39;00m response\n",
      "File \u001b[0;32m~/anaconda3/lib/python3.10/site-packages/selenium/webdriver/remote/errorhandler.py:245\u001b[0m, in \u001b[0;36mErrorHandler.check_response\u001b[0;34m(self, response)\u001b[0m\n\u001b[1;32m    243\u001b[0m         alert_text \u001b[38;5;241m=\u001b[39m value[\u001b[38;5;124m\"\u001b[39m\u001b[38;5;124malert\u001b[39m\u001b[38;5;124m\"\u001b[39m]\u001b[38;5;241m.\u001b[39mget(\u001b[38;5;124m\"\u001b[39m\u001b[38;5;124mtext\u001b[39m\u001b[38;5;124m\"\u001b[39m)\n\u001b[1;32m    244\u001b[0m     \u001b[38;5;28;01mraise\u001b[39;00m exception_class(message, screen, stacktrace, alert_text)  \u001b[38;5;66;03m# type: ignore[call-arg]  # mypy is not smart enough here\u001b[39;00m\n\u001b[0;32m--> 245\u001b[0m \u001b[38;5;28;01mraise\u001b[39;00m exception_class(message, screen, stacktrace)\n",
      "\u001b[0;31mNoSuchWindowException\u001b[0m: Message: no such window: target window already closed\nfrom unknown error: web view not found\n  (Session info: chrome=114.0.5735.106)\nStacktrace:\n0   chromedriver                        0x000000010296ff48 chromedriver + 4226888\n1   chromedriver                        0x00000001029684f4 chromedriver + 4195572\n2   chromedriver                        0x00000001025acd68 chromedriver + 281960\n3   chromedriver                        0x0000000102586ef8 chromedriver + 126712\n4   chromedriver                        0x000000010260be88 chromedriver + 671368\n5   chromedriver                        0x000000010261e45c chromedriver + 746588\n6   chromedriver                        0x00000001025dbf1c chromedriver + 474908\n7   chromedriver                        0x00000001025dcef4 chromedriver + 478964\n8   chromedriver                        0x000000010293159c chromedriver + 3970460\n9   chromedriver                        0x00000001029356f0 chromedriver + 3987184\n10  chromedriver                        0x000000010293b5b4 chromedriver + 4011444\n11  chromedriver                        0x00000001029362fc chromedriver + 3990268\n12  chromedriver                        0x000000010290e1c0 chromedriver + 3826112\n13  chromedriver                        0x0000000102952088 chromedriver + 4104328\n14  chromedriver                        0x00000001029521e0 chromedriver + 4104672\n15  chromedriver                        0x0000000102961f28 chromedriver + 4169512\n16  libsystem_pthread.dylib             0x00000001a3bce06c _pthread_start + 148\n17  libsystem_pthread.dylib             0x00000001a3bc8e2c thread_start + 8\n"
     ]
    }
   ],
   "source": [
    "from selenium import webdriver\n",
    "import time\n",
    "import cv2\n",
    "import os\n",
    "\n",
    "# Open the saved html in a web browser\n",
    "driver = webdriver.Chrome()\n",
    "\n",
    "# Get the absolute path of the file\n",
    "abs_file_path = os.path.abspath('./AnimatedPM25.html')\n",
    "\n",
    "# Prepend it with file:///\n",
    "url = 'file:///' + abs_file_path\n",
    "\n",
    "# Open the file with the webdriver\n",
    "driver.get(url)\n",
    "\n",
    "# Set the duration and the step size for the screenshot capture\n",
    "duration = 10  # duration of the video in seconds\n",
    "step_size = 0.1  # take a screenshot every 0.1 seconds\n",
    "\n",
    "# Capture screenshots\n",
    "for i in range(int(duration / step_size)):\n",
    "    driver.save_screenshot(f'screenshot{i}.png')\n",
    "    # add delay for the next capture\n",
    "    time.sleep(step_size)\n",
    "\n",
    "# After capturing the screenshots, you can use a tool like OpenCV to combine them into a video.\n",
    "# Here's a basic example:\n",
    "\n",
    "img_array = []\n",
    "for i in range(int(duration / step_size)):\n",
    "    img = cv2.imread(f'screenshot{i}.png')\n",
    "    height, width, layers = img.shape\n",
    "    size = (width,height)\n",
    "    img_array.append(img)\n",
    " \n",
    "out = cv2.VideoWriter('project.mp4',cv2.VideoWriter_fourcc(*'DIVX'), 15, size)\n",
    " \n",
    "for i in range(len(img_array)):\n",
    "    out.write(img_array[i])\n",
    "out.release()\n",
    "\n",
    "# Cleanup: remove the screenshots\n",
    "for i in range(int(duration / step_size)):\n",
    "    os.remove(f'screenshot{i}.png')\n",
    "\n",
    "# close the browser\n",
    "driver.quit()\n"
   ]
  },
  {
   "cell_type": "code",
   "execution_count": null,
   "id": "b118ca83",
   "metadata": {},
   "outputs": [],
   "source": []
  }
 ],
 "metadata": {
  "kernelspec": {
   "display_name": "Python 3 (ipykernel)",
   "language": "python",
   "name": "python3"
  },
  "language_info": {
   "codemirror_mode": {
    "name": "ipython",
    "version": 3
   },
   "file_extension": ".py",
   "mimetype": "text/x-python",
   "name": "python",
   "nbconvert_exporter": "python",
   "pygments_lexer": "ipython3",
   "version": "3.10.9"
  }
 },
 "nbformat": 4,
 "nbformat_minor": 5
}
